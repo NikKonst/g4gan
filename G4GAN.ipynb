{
  "nbformat": 4,
  "nbformat_minor": 0,
  "metadata": {
    "colab": {
      "name": "G4GAN.ipynb",
      "provenance": [],
      "collapsed_sections": [
        "N_9707Bc9iPE",
        "AVF8i5-191l9"
      ],
      "authorship_tag": "ABX9TyOBA34GoLHvd2GYp2TWYJUG"
    },
    "kernelspec": {
      "name": "python3",
      "display_name": "Python 3"
    },
    "language_info": {
      "name": "python"
    }
  },
  "cells": [
    {
      "cell_type": "markdown",
      "metadata": {
        "id": "FnZf-7MM9PFW"
      },
      "source": [
        "# Libs"
      ]
    },
    {
      "cell_type": "code",
      "metadata": {
        "id": "-Qx0rduf79Ot"
      },
      "source": [
        "from google.colab import drive\n",
        "import os\n",
        "import pandas as pd\n",
        "import matplotlib.pyplot as plt\n",
        "import seaborn as sns"
      ],
      "execution_count": 79,
      "outputs": []
    },
    {
      "cell_type": "code",
      "metadata": {
        "id": "2Cox149DDynx"
      },
      "source": [
        "!wget -P bedops/ https://github.com/bedops/bedops/releases/download/v2.4.39/bedops_linux_x86_64-v2.4.39.tar.bz2\n",
        "!tar jxvf bedops/bedops_linux_x86_64-v2.4.39.tar.bz2 -C bedops/"
      ],
      "execution_count": null,
      "outputs": []
    },
    {
      "cell_type": "markdown",
      "metadata": {
        "id": "-pb2Mlgd9UPv"
      },
      "source": [
        "# Parameters"
      ]
    },
    {
      "cell_type": "markdown",
      "metadata": {
        "id": "zYNv07o_9fyt"
      },
      "source": [
        "## Data Parameters"
      ]
    },
    {
      "cell_type": "code",
      "metadata": {
        "colab": {
          "base_uri": "https://localhost:8080/"
        },
        "id": "0N4UaFnL9pEM",
        "outputId": "4d71423f-d0c7-465d-899c-fada6335c8a6"
      },
      "source": [
        "# Google Drive backup \n",
        "USE_GOOGLE_DRIVE_BACKUP = True\n",
        "GOOGLE_DRIVE_PATH = '/content/drive'\n",
        "DATA_FOLDER = 'data/'\n",
        "GOOGLE_DRIVE_DATA_FOLDER = '/MyDrive/Биоинформатика/ВШЭ/Статья/data/'\n",
        "\n",
        "# hg19 link\n",
        "HG19_LINK = 'ftp://hgdownload.cse.ucsc.edu/goldenPath/hg19/bigZips/hg19.fa.gz'\n",
        "\n",
        "# G4 bed links\n",
        "G4_BED_LINKS = {\n",
        "    'g4seq': ['ftp://ftp.ncbi.nlm.nih.gov/geo/series/GSE63nnn/GSE63874/suppl/GSE63874_Na_K_plus_hits_intersect.bed.gz',\n",
        "              'ftp://ftp.ncbi.nlm.nih.gov/geo/series/GSE63nnn/GSE63874/suppl/GSE63874_Na_K_minus_hits_intersect.bed.gz'\n",
        "              ],\n",
        "    'g4chip': ['https://ftp.ncbi.nlm.nih.gov/geo/series/GSE99nnn/GSE99205/suppl/GSE99205_common_HaCaT_G4_ChIP_peaks_RNase_treated.bed.gz']\n",
        "}\n",
        "\n",
        "# Data Preprocess (choose it based on bed file intervals length)\n",
        "G4_NORM_LEN = {\n",
        "    'g4seq': 512,\n",
        "    'g4chip': 1024\n",
        "} \n",
        "\n",
        "if USE_GOOGLE_DRIVE_BACKUP:\n",
        "    drive.mount('/content/drive')"
      ],
      "execution_count": 94,
      "outputs": [
        {
          "output_type": "stream",
          "text": [
            "Drive already mounted at /content/drive; to attempt to forcibly remount, call drive.mount(\"/content/drive\", force_remount=True).\n"
          ],
          "name": "stdout"
        }
      ]
    },
    {
      "cell_type": "markdown",
      "metadata": {
        "id": "N_9707Bc9iPE"
      },
      "source": [
        "## Model Parameters"
      ]
    },
    {
      "cell_type": "code",
      "metadata": {
        "id": "H7_xyezV9oNu"
      },
      "source": [
        ""
      ],
      "execution_count": null,
      "outputs": []
    },
    {
      "cell_type": "markdown",
      "metadata": {
        "id": "q_rBbR7J9yJw"
      },
      "source": [
        "# Data Preparation"
      ]
    },
    {
      "cell_type": "markdown",
      "metadata": {
        "id": "AVF8i5-191l9"
      },
      "source": [
        "## Data Downloading"
      ]
    },
    {
      "cell_type": "code",
      "metadata": {
        "id": "dEP-VDV3905E"
      },
      "source": [
        "# Check if file already exist\n",
        "def check_file_exist(file_path):\n",
        "    exist = False\n",
        "    if os.path.isfile(file_path):\n",
        "        exist = True\n",
        "    return exist\n",
        "\n",
        "# Download hg19 data\n",
        "def download_hg19_data(data_folder, use_google_drive_backup=False, google_drive_data_path=None):\n",
        "    if check_file_exist(data_folder + 'hg19/hg19.fa'):\n",
        "        print(\"HG19 FILE ALREADY EXIST\")\n",
        "    elif check_file_exist(data_folder + 'hg19/hg19.fa.gz'):\n",
        "        print(\"UNZIP HG19 FILE\")\n",
        "        !gzip -d -k $data_folder\"hg19/hg19.fa.gz\"\n",
        "    elif use_google_drive_backup and check_file_exist(google_drive_data_path + 'hg19/hg19.fa.gz'):\n",
        "        print(\"COPY HG19 FROM GOOGLE DRIVE\")\n",
        "        !cp -R $google_drive_data_path\"hg19/\" $data_folder\"hg19/\"\n",
        "    else:\n",
        "        !wget --timestamping $HG19_LINK -P $data_folder\"hg19/\"\n",
        "        !cp -R $data_folder\"hg19/\" $google_drive_data_path \n",
        "\n",
        "# Download g4 data with specific data type (eg. g4seq, g4chip, etc.)\n",
        "def download_g4_data(data_type, data_folder, use_google_drive_backup=False, google_drive_data_path=None):\n",
        "    for file_link in G4_BED_LINKS[data_type]:\n",
        "        file_name = file_link.split('/')[-1]\n",
        "        file_name_unzip = file_name.rsplit('.', 1)[0]\n",
        "        \n",
        "        if check_file_exist(data_folder + f'{data_type}/{file_name_unzip}'):\n",
        "            print(f\"{file_name_unzip} FILE ALREADY EXIST\")\n",
        "        elif check_file_exist(data_folder + f'{data_type}/{file_name}'):\n",
        "            print(f\"UNZIP {file_name} FILE\")\n",
        "            !gzip -d -k $data_folder$data_type\"/\"$file_name\n",
        "        elif use_google_drive_backup and check_file_exist(google_drive_data_path + f'{data_type}/{file_name}'):\n",
        "            print(f\"COPY {file_name} FROM GOOGLE DRIVE\")\n",
        "            !cp -R $google_drive_data_path$data_type\"/\" $data_folder$data_type\"/\"\n",
        "        else:\n",
        "            !wget --timestamping $file_link -P $data_folder$data_type\"/\"\n",
        "            !cp -R $data_folder$data_type\"/\" $google_drive_data_path \n",
        "    \n",
        "    if check_file_exist(data_folder + f'{data_type}/{data_type}.bed'):\n",
        "        print(f\"{data_type}.bed FILE ALREADY EXIST\")\n",
        "    elif len(G4_BED_LINKS[data_type]) > 1:\n",
        "        print(f\"CONCAT .bed FILES FOR {data_type}\")\n",
        "        file_names_unzip = [data_folder + data_type + \"/\" + file_link.split('/')[-1].rsplit('.', 1)[0] \n",
        "                            for file_link in G4_BED_LINKS[data_type]]\n",
        "        file_names_unzip_str = ' '.join(file_names_unzip)\n",
        "        !bedops/bin/bedops --everything $file_names_unzip_str > $data_folder$data_type\"/\"$data_type\".bed\"\n",
        "    else:\n",
        "        print(f\"RENAME .bed FILE FOR {data_type}\")\n",
        "        file_name = G4_BED_LINKS[data_type][0].split('/')[-1]\n",
        "        file_name_unzip = file_name.rsplit('.', 1)[0]\n",
        "        !cp $data_folder$data_type\"/\"$file_name_unzip $data_folder$data_type\"/\"$data_type\".bed\"\n",
        "\n",
        "\n",
        "# Download all g4 data from G4_BED_LINKS dict\n",
        "def download_all_g4_data(data_folder, use_google_drive_backup=False, google_drive_data_path=None):\n",
        "    data_types = list(G4_BED_LINKS.keys())\n",
        "    for data_type in data_types:\n",
        "        download_g4_data(data_type, data_folder, use_google_drive_backup, google_drive_data_path)\n",
        "\n",
        "# Download all data and merge bed files into one\n",
        "def download_data(data_folder=DATA_FOLDER, use_google_drive_backup=USE_GOOGLE_DRIVE_BACKUP, google_drive_data_path=GOOGLE_DRIVE_PATH + GOOGLE_DRIVE_DATA_FOLDER):\n",
        "    print('DOWNLOAD DATA')\n",
        "\n",
        "    if data_folder is None:\n",
        "        raise Exception('Data Folder Path Not Set')\n",
        "    elif use_google_drive_backup and google_drive_data_path is None:\n",
        "        raise Exception('No Google Drive Path')\n",
        "\n",
        "    print('DOWNLOAD HG19')\n",
        "    download_hg19_data(data_folder, use_google_drive_backup, google_drive_data_path)\n",
        "    print('DOWNLOAD HG19 FINISH')\n",
        "\n",
        "    print('DOWNLOAD G4 DATA')\n",
        "    download_all_g4_data(data_folder, use_google_drive_backup, google_drive_data_path)\n",
        "    print('DOWNLOAD G4 DATA FINISH')\n",
        "\n",
        "    print('DOWNLOAD DATA FINISH')"
      ],
      "execution_count": 58,
      "outputs": []
    },
    {
      "cell_type": "code",
      "metadata": {
        "colab": {
          "base_uri": "https://localhost:8080/"
        },
        "id": "_xrDTE9NKJAO",
        "outputId": "41f1ce2b-68a1-4f64-aa2a-9e53315884bd"
      },
      "source": [
        "# download all the data\n",
        "download_data()"
      ],
      "execution_count": 90,
      "outputs": [
        {
          "output_type": "stream",
          "text": [
            "DOWNLOAD DATA\n",
            "DOWNLOAD HG19\n",
            "HG19 FILE ALREADY EXIST\n",
            "DOWNLOAD HG19 FINISH\n",
            "DOWNLOAD G4 DATA\n",
            "GSE63874_Na_K_plus_hits_intersect.bed FILE ALREADY EXIST\n",
            "GSE63874_Na_K_minus_hits_intersect.bed FILE ALREADY EXIST\n",
            "g4seq.bed FILE ALREADY EXIST\n",
            "GSE99205_common_HaCaT_G4_ChIP_peaks_RNase_treated.bed FILE ALREADY EXIST\n",
            "g4chip.bed FILE ALREADY EXIST\n",
            "DOWNLOAD G4 DATA FINISH\n",
            "DOWNLOAD DATA FINISH\n"
          ],
          "name": "stdout"
        }
      ]
    },
    {
      "cell_type": "markdown",
      "metadata": {
        "id": "85rIBy0eE-ub"
      },
      "source": [
        "## Visualise data"
      ]
    },
    {
      "cell_type": "code",
      "metadata": {
        "id": "KXJmepq7rhe5"
      },
      "source": [
        "def visualise_data():\n",
        "    for data_type in G4_BED_LINKS.keys():\n",
        "        print('-----------------------------------')\n",
        "        print(f'SHOW G4 DATA FOR: {data_type}')\n",
        "\n",
        "        g4df = pd.read_csv(f'{DATA_FOLDER}{data_type}/{data_type}.bed', sep='\\t', header=None)\n",
        "        g4df['len'] = g4df[2] - g4df[1]\n",
        "        sns.distplot(g4df.len)\n",
        "        plt.show()\n",
        "\n",
        "        print('-----------------------------------')"
      ],
      "execution_count": 91,
      "outputs": []
    },
    {
      "cell_type": "code",
      "metadata": {
        "colab": {
          "base_uri": "https://localhost:8080/",
          "height": 731
        },
        "id": "nDpUrWpHETjA",
        "outputId": "3bbc698b-bb30-4843-a3b6-fefafb69f532"
      },
      "source": [
        "# visualise data\n",
        "visualise_data()"
      ],
      "execution_count": 93,
      "outputs": [
        {
          "output_type": "stream",
          "text": [
            "-----------------------------------\n",
            "SHOW G4 DATA FOR: g4seq\n"
          ],
          "name": "stdout"
        },
        {
          "output_type": "stream",
          "text": [
            "/usr/local/lib/python3.7/dist-packages/seaborn/distributions.py:2557: FutureWarning: `distplot` is a deprecated function and will be removed in a future version. Please adapt your code to use either `displot` (a figure-level function with similar flexibility) or `histplot` (an axes-level function for histograms).\n",
            "  warnings.warn(msg, FutureWarning)\n"
          ],
          "name": "stderr"
        },
        {
          "output_type": "display_data",
          "data": {
            "image/png": "[encoded data removed]",
            "text/plain": [
              "<Figure size 432x288 with 1 Axes>"
            ]
          },
          "metadata": {
            "tags": [],
            "needs_background": "light"
          }
        },
        {
          "output_type": "stream",
          "text": [
            "-----------------------------------\n",
            "-----------------------------------\n",
            "SHOW G4 DATA FOR: g4chip\n"
          ],
          "name": "stdout"
        },
        {
          "output_type": "stream",
          "text": [
            "/usr/local/lib/python3.7/dist-packages/seaborn/distributions.py:2557: FutureWarning: `distplot` is a deprecated function and will be removed in a future version. Please adapt your code to use either `displot` (a figure-level function with similar flexibility) or `histplot` (an axes-level function for histograms).\n",
            "  warnings.warn(msg, FutureWarning)\n"
          ],
          "name": "stderr"
        },
        {
          "output_type": "display_data",
          "data": {
            "image/png": "[encoded data removed]",
            "text/plain": [
              "<Figure size 432x288 with 1 Axes>"
            ]
          },
          "metadata": {
            "tags": [],
            "needs_background": "light"
          }
        },
        {
          "output_type": "stream",
          "text": [
            "-----------------------------------\n"
          ],
          "name": "stdout"
        }
      ]
    },
    {
      "cell_type": "markdown",
      "metadata": {
        "id": "FxkT0IHXKNF_"
      },
      "source": [
        "Because of different qudruplex detection methods, we will use different lenth for bed intervals normalisation:\n",
        "\n",
        "g4seq: 512\n",
        "\n",
        "g4chip: 1024"
      ]
    },
    {
      "cell_type": "markdown",
      "metadata": {
        "id": "sCJcRye-LR_s"
      },
      "source": [
        "## Data Preprocessing"
      ]
    },
    {
      "cell_type": "code",
      "metadata": {
        "id": "JnFJw9S9KmHS"
      },
      "source": [
        "# Norm bed files to norm len\n",
        "def norm_bed_files():\n",
        "    for data_type in G4_BED_LINKS.keys():\n",
        "         \n",
        "\n",
        "def preprocess_data():\n",
        "    pass"
      ],
      "execution_count": null,
      "outputs": []
    },
    {
      "cell_type": "code",
      "metadata": {
        "id": "Da8SqVD9OACm"
      },
      "source": [
        "# preprocess data\n",
        "preprocess_data()"
      ],
      "execution_count": null,
      "outputs": []
    }
  ]
}