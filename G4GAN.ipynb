{
  "nbformat": 4,
  "nbformat_minor": 0,
  "metadata": {
    "colab": {
      "name": "G4GAN.ipynb",
      "provenance": [],
      "collapsed_sections": [
        "N_9707Bc9iPE"
      ],
      "authorship_tag": "ABX9TyNnH+TVTYuJCyYs8so9JKDs"
    },
    "kernelspec": {
      "name": "python3",
      "display_name": "Python 3"
    },
    "language_info": {
      "name": "python"
    }
  },
  "cells": [
    {
      "cell_type": "markdown",
      "metadata": {
        "id": "FnZf-7MM9PFW"
      },
      "source": [
        "# Libs"
      ]
    },
    {
      "cell_type": "code",
      "metadata": {
        "id": "-Qx0rduf79Ot"
      },
      "source": [
        "from google.colab import drive\n",
        "import os"
      ],
      "execution_count": null,
      "outputs": []
    },
    {
      "cell_type": "markdown",
      "metadata": {
        "id": "-pb2Mlgd9UPv"
      },
      "source": [
        "# Parameters"
      ]
    },
    {
      "cell_type": "markdown",
      "metadata": {
        "id": "zYNv07o_9fyt"
      },
      "source": [
        "## Data Parameters"
      ]
    },
    {
      "cell_type": "code",
      "metadata": {
        "colab": {
          "base_uri": "https://localhost:8080/"
        },
        "id": "0N4UaFnL9pEM",
        "outputId": "40971d89-7a42-42e1-ccc3-0f343d123a88"
      },
      "source": [
        "# Google Drive backup \n",
        "USE_GOOGLE_DRIVE_BACKUP = True\n",
        "GOOGLE_DRIVE_PATH = '/content/drive'\n",
        "DATA_FOLDER = 'data/'\n",
        "GOOGLE_DRIVE_DATA_FOLDER = '/MyDrive/Биоинформатика/ВШЭ/Статья/data/'\n",
        "\n",
        "# hg19 link\n",
        "HG19_LINK = 'ftp://hgdownload.cse.ucsc.edu/goldenPath/hg19/bigZips/hg19.fa.gz'\n",
        "\n",
        "# G4 bed links\n",
        "G4_BED_LINKS = {\n",
        "    'g4seq': ['ftp://ftp.ncbi.nlm.nih.gov/geo/series/GSE63nnn/GSE63874/suppl/GSE63874_Na_K_plus_hits_intersect.bed.gz',\n",
        "              'ftp://ftp.ncbi.nlm.nih.gov/geo/series/GSE63nnn/GSE63874/suppl/GSE63874_Na_K_PDS_plus_hits_intersect.bed.gz',\n",
        "              'ftp://ftp.ncbi.nlm.nih.gov/geo/series/GSE63nnn/GSE63874/suppl/GSE63874_Na_PDS_plus_hits_intersect.bed.gz'],\n",
        "    # 'g4chip': []\n",
        "}\n",
        "\n",
        "if USE_GOOGLE_DRIVE_BACKUP:\n",
        "    drive.mount('/content/drive')"
      ],
      "execution_count": null,
      "outputs": [
        {
          "output_type": "stream",
          "text": [
            "Drive already mounted at /content/drive; to attempt to forcibly remount, call drive.mount(\"/content/drive\", force_remount=True).\n"
          ],
          "name": "stdout"
        }
      ]
    },
    {
      "cell_type": "markdown",
      "metadata": {
        "id": "N_9707Bc9iPE"
      },
      "source": [
        "## Model Parameters"
      ]
    },
    {
      "cell_type": "code",
      "metadata": {
        "id": "H7_xyezV9oNu"
      },
      "source": [
        ""
      ],
      "execution_count": null,
      "outputs": []
    },
    {
      "cell_type": "markdown",
      "metadata": {
        "id": "q_rBbR7J9yJw"
      },
      "source": [
        "# Data Preparation"
      ]
    },
    {
      "cell_type": "markdown",
      "metadata": {
        "id": "AVF8i5-191l9"
      },
      "source": [
        "## Data Downloading"
      ]
    },
    {
      "cell_type": "code",
      "metadata": {
        "id": "dEP-VDV3905E"
      },
      "source": [
        "# Check if file already exist\n",
        "def check_file_exist(file_path):\n",
        "    exist = False\n",
        "    if os.path.isfile(file_path):\n",
        "        exist = True\n",
        "    return exist\n",
        "\n",
        "# Download hg19 data\n",
        "def download_hg19_data(data_folder, use_google_drive_backup=False, google_drive_data_path=None):\n",
        "    if check_file_exist(data_folder + 'hg19/hg19.fa.gz') or check_file_exist(data_folder + 'hg19/hg19.fa'):\n",
        "        print (\"HG19 FILE ALREADY EXIST\")\n",
        "    elif use_google_drive_backup and check_file_exist(google_drive_data_path + 'hg19/hg19.fa.gz'):\n",
        "        print (\"COPY HG19 FROM GOOGLE DRIVE\")\n",
        "        !cp -R $google_drive_data_path\"hg19/\" $data_folder\n",
        "    else:\n",
        "        !wget --timestamping $HG19_LINK -P $data_folder\"hg19/\"\n",
        "        !cp -R $data_folder\"hg19/\" $google_drive_data_path \n",
        "\n",
        "def download_g4_data(data_folder, use_google_drive_backup=False, google_drive_data_path=None):\n",
        "    pass\n",
        "\n",
        "# Download all data\n",
        "def download_data(data_folder=DATA_FOLDER, use_google_drive_backup=USE_GOOGLE_DRIVE_BACKUP, google_drive_data_path=GOOGLE_DRIVE_PATH + GOOGLE_DRIVE_DATA_FOLDER):\n",
        "    print('DOWNLOAD DATA')\n",
        "\n",
        "    if data_folder is None:\n",
        "        raise Exception('Data Folder Path Not Set')\n",
        "    elif use_google_drive_backup and google_drive_data_path is None:\n",
        "        raise Exception('No Google Drive Path')\n",
        "\n",
        "    print('DOWNLOAD HG19')\n",
        "    download_hg19_data(data_folder, use_google_drive_backup, google_drive_data_path)\n",
        "    print('DOWNLOAD HG19 FINISH')\n",
        "\n",
        "\n",
        "\n",
        "    print('DOWNLOAD DATA FINISH')"
      ],
      "execution_count": null,
      "outputs": []
    },
    {
      "cell_type": "code",
      "metadata": {
        "colab": {
          "base_uri": "https://localhost:8080/"
        },
        "id": "nDpUrWpHETjA",
        "outputId": "e9fbfbcb-9c6b-4563-a09a-24f5b7688119"
      },
      "source": [
        "download_data()"
      ],
      "execution_count": null,
      "outputs": [
        {
          "output_type": "stream",
          "text": [
            "DOWNLOAD DATA\n",
            "DOWNLOAD HG19\n",
            "COPY HG19 FROM GOOGLE DRIVE\n",
            "DOWNLOAD HG19 FINISH\n",
            "DOWNLOAD DATA FINISH\n"
          ],
          "name": "stdout"
        }
      ]
    }
  ]
}